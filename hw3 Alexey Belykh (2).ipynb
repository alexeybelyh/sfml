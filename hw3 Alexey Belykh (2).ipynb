{
 "cells": [
  {
   "cell_type": "markdown",
   "metadata": {},
   "source": [
    "# ДЗ 3\n",
    "## Задача на предсказание: согласится ли клиент на депозит."
   ]
  },
  {
   "cell_type": "code",
   "execution_count": 2,
   "metadata": {},
   "outputs": [],
   "source": [
    "import pandas as pd\n",
    "import numpy as np\n",
    "import matplotlib.pyplot as plt\n",
    "\n",
    "%matplotlib inline\n",
    "\n",
    "plt.style.use('ggplot')\n",
    "plt.rcParams['figure.figsize'] = (12,5)"
   ]
  },
  {
   "cell_type": "markdown",
   "metadata": {},
   "source": [
    "### Грузим данные"
   ]
  },
  {
   "cell_type": "markdown",
   "metadata": {},
   "source": [
    "Считаем обучающую выборки и тестовую (которую мы как бы не видим)"
   ]
  },
  {
   "cell_type": "code",
   "execution_count": 3,
   "metadata": {},
   "outputs": [],
   "source": [
    "df_train = pd.read_csv('data/train.csv', sep=',', encoding='utf8')"
   ]
  },
  {
   "cell_type": "code",
   "execution_count": 4,
   "metadata": {},
   "outputs": [
    {
     "data": {
      "text/plain": [
       "(24712, 22)"
      ]
     },
     "execution_count": 4,
     "metadata": {},
     "output_type": "execute_result"
    }
   ],
   "source": [
    "df_train.shape"
   ]
  },
  {
   "cell_type": "code",
   "execution_count": 5,
   "metadata": {},
   "outputs": [
    {
     "name": "stdout",
     "output_type": "stream",
     "text": [
      "<class 'pandas.core.frame.DataFrame'>\n",
      "RangeIndex: 24712 entries, 0 to 24711\n",
      "Data columns (total 22 columns):\n",
      "_id               24712 non-null object\n",
      "age               24712 non-null int64\n",
      "job               24712 non-null object\n",
      "marital           24712 non-null object\n",
      "education         24712 non-null object\n",
      "default           24712 non-null object\n",
      "housing           24712 non-null object\n",
      "loan              24712 non-null object\n",
      "contact           24712 non-null object\n",
      "month             24712 non-null object\n",
      "day_of_week       24712 non-null object\n",
      "duration          24712 non-null int64\n",
      "campaign          24712 non-null int64\n",
      "pdays             24712 non-null int64\n",
      "previous          24712 non-null int64\n",
      "poutcome          24712 non-null object\n",
      "emp.var.rate      24712 non-null float64\n",
      "cons.price.idx    24712 non-null float64\n",
      "cons.conf.idx     24712 non-null float64\n",
      "euribor3m         24712 non-null float64\n",
      "nr.employed       24712 non-null float64\n",
      "target            24712 non-null int64\n",
      "dtypes: float64(5), int64(6), object(11)\n",
      "memory usage: 4.1+ MB\n"
     ]
    }
   ],
   "source": [
    "df_train.info()"
   ]
  },
  {
   "cell_type": "code",
   "execution_count": 6,
   "metadata": {},
   "outputs": [],
   "source": [
    "df_test = pd.read_csv('data/test.csv', sep=',', encoding='utf8')"
   ]
  },
  {
   "cell_type": "code",
   "execution_count": 7,
   "metadata": {},
   "outputs": [
    {
     "data": {
      "text/plain": [
       "(16476, 21)"
      ]
     },
     "execution_count": 7,
     "metadata": {},
     "output_type": "execute_result"
    }
   ],
   "source": [
    "df_test.shape"
   ]
  },
  {
   "cell_type": "code",
   "execution_count": 8,
   "metadata": {},
   "outputs": [
    {
     "name": "stdout",
     "output_type": "stream",
     "text": [
      "<class 'pandas.core.frame.DataFrame'>\n",
      "RangeIndex: 16476 entries, 0 to 16475\n",
      "Data columns (total 21 columns):\n",
      "_id               16476 non-null object\n",
      "age               16476 non-null int64\n",
      "job               16476 non-null object\n",
      "marital           16476 non-null object\n",
      "education         16476 non-null object\n",
      "default           16476 non-null object\n",
      "housing           16476 non-null object\n",
      "loan              16476 non-null object\n",
      "contact           16476 non-null object\n",
      "month             16476 non-null object\n",
      "day_of_week       16476 non-null object\n",
      "duration          16476 non-null int64\n",
      "campaign          16476 non-null int64\n",
      "pdays             16476 non-null int64\n",
      "previous          16476 non-null int64\n",
      "poutcome          16476 non-null object\n",
      "emp.var.rate      16476 non-null float64\n",
      "cons.price.idx    16476 non-null float64\n",
      "cons.conf.idx     16476 non-null float64\n",
      "euribor3m         16476 non-null float64\n",
      "nr.employed       16476 non-null float64\n",
      "dtypes: float64(5), int64(5), object(11)\n",
      "memory usage: 2.6+ MB\n"
     ]
    }
   ],
   "source": [
    "df_test.info()"
   ]
  },
  {
   "cell_type": "code",
   "execution_count": 9,
   "metadata": {},
   "outputs": [],
   "source": [
    "df_ss = pd.read_csv('data/sample_submission.csv', sep=',', encoding='utf8')"
   ]
  },
  {
   "cell_type": "code",
   "execution_count": 27,
   "metadata": {},
   "outputs": [
    {
     "data": {
      "text/html": [
       "<div>\n",
       "<style scoped>\n",
       "    .dataframe tbody tr th:only-of-type {\n",
       "        vertical-align: middle;\n",
       "    }\n",
       "\n",
       "    .dataframe tbody tr th {\n",
       "        vertical-align: top;\n",
       "    }\n",
       "\n",
       "    .dataframe thead th {\n",
       "        text-align: right;\n",
       "    }\n",
       "</style>\n",
       "<table border=\"1\" class=\"dataframe\">\n",
       "  <thead>\n",
       "    <tr style=\"text-align: right;\">\n",
       "      <th></th>\n",
       "      <th>_id</th>\n",
       "      <th>target</th>\n",
       "    </tr>\n",
       "  </thead>\n",
       "  <tbody>\n",
       "  </tbody>\n",
       "</table>\n",
       "</div>"
      ],
      "text/plain": [
       "Empty DataFrame\n",
       "Columns: [_id, target]\n",
       "Index: []"
      ]
     },
     "execution_count": 27,
     "metadata": {},
     "output_type": "execute_result"
    }
   ],
   "source": [
    "df_ss[df_ss['target']==1]"
   ]
  },
  {
   "cell_type": "code",
   "execution_count": null,
   "metadata": {},
   "outputs": [],
   "source": [
    "_id               24712 non-null object\n",
    "job               24712 non-null object\n",
    "marital           24712 non-null object\n",
    "education         24712 non-null object\n",
    "default           24712 non-null object\n",
    "housing           24712 non-null object\n",
    "loan              24712 non-null object\n",
    "contact           24712 non-null object\n",
    "month             24712 non-null object\n",
    "day_of_week       24712 non-null object\n",
    "poutcome          24712 non-null object"
   ]
  },
  {
   "cell_type": "code",
   "execution_count": null,
   "metadata": {},
   "outputs": [],
   "source": [
    "_id - идентификатор человека\n",
    "age - возраст\n",
    "job - тип работы (\"admin.\",\"blue-collar\",\"entrepreneur\",\"housemaid\",\"management\",\"retired\",\"self-employed\",\"services\",\"student\",\"technician\",\"unemployed\",\"unknown\")\n",
    "marital - семейное положение (\"divorced\" (разведенный и овдовевший),\"married\",\"single\",\"unknown\")\n",
    "education - уровень образования (\"basic.4y\",\"basic.6y\",\"basic.9y\",\"high.school\",\"illiterate\",\"professional.course\",\"university.degree\",\"unknown\")\n",
    "default - есть ли дефолт по кредиту (\"no\",\"yes\",\"unknown\")\n",
    "housing - есть ли кредит на жилье (\"no\",\"yes\",\"unknown\")\n",
    "loan - есть ли персональный кредит (\"no\",\"yes\",\"unknown\")\n",
    "contact - контактный тип связи (\"cellular\",\"telephone\")\n",
    "month - последний контактный месяц года (\"jan\", \"feb\", \"mar\", ..., \"nov\", \"dec\")\n",
    "day_of_week - последний контактный день недели (\"mon\",\"tue\",\"wed\",\"thu\",\"fri\")\n",
    "duration - длительность последнего контакта в секундах. (Важное замечание: этот атрибут сильно влияет на таргет (например, если длительность - 0 сек., то таргет - 0). Тем не менее, продолжительность не известна до выполнения вызова.\n",
    "campaign - количество контактов, выполненных для этого клиента в рамках текущей маркетинговой кампании (включая последний контакт)\n",
    "pdays - количество дней прошедших последнего контакта с клиентом с предыдущей маркетинговой кампании (999 означает, что ранее с клиентом не контактировали)\n",
    "previous - количество контактов, выполненных до текущей маркетинговой кампании для этого клиента\n",
    "poutcome - результат предыдущей маркетинговой кампании (\"failure\",\"nonexistent\",\"success\")\n",
    "# ниже приведены показатели окружающей среды и банка\n",
    "emp.var.rate - изменение уровня занятости (квартальный показатель)\n",
    "cons.price.idx - индекс потребительских цен (ежемесячный показатель)\n",
    "cons.conf.idx - индекс доверия потребителя (ежемесячный показатель)\n",
    "euribor3m - курс Euribor (ежедневный показатель)\n",
    "nr.employed - количество сотрудников (квартальный показатель)\n",
    "target - целевая переменная (таргет) - согласился ли клиент на вклад (депозит)"
   ]
  },
  {
   "cell_type": "markdown",
   "metadata": {},
   "source": [
    "#### Объединим две выборки\n"
   ]
  },
  {
   "cell_type": "code",
   "execution_count": 10,
   "metadata": {},
   "outputs": [],
   "source": [
    "df_test.loc[:, 'target'] = 2\n",
    "#добавили столбец и дали ему значение 2 для того, чтобы потом отделить тестовую выборку"
   ]
  },
  {
   "cell_type": "code",
   "execution_count": 11,
   "metadata": {},
   "outputs": [],
   "source": [
    "df0 = df_test.append(df_train).reset_index(drop=True)"
   ]
  },
  {
   "cell_type": "code",
   "execution_count": 36,
   "metadata": {},
   "outputs": [],
   "source": [
    "#df=pd.concat([df_train,df_test], ignore_index=True)"
   ]
  },
  {
   "cell_type": "code",
   "execution_count": 12,
   "metadata": {},
   "outputs": [
    {
     "data": {
      "text/plain": [
       "(41188, 22)"
      ]
     },
     "execution_count": 12,
     "metadata": {},
     "output_type": "execute_result"
    }
   ],
   "source": [
    "df0.shape"
   ]
  },
  {
   "cell_type": "markdown",
   "metadata": {
    "collapsed": true
   },
   "source": [
    "#### Подготовим данные для ohe"
   ]
  },
  {
   "cell_type": "code",
   "execution_count": 13,
   "metadata": {
    "scrolled": false
   },
   "outputs": [],
   "source": [
    "# Удалим '_id'\n",
    "df=df0.drop(['_id'], axis=1)"
   ]
  },
  {
   "cell_type": "code",
   "execution_count": 14,
   "metadata": {},
   "outputs": [
    {
     "data": {
      "text/plain": [
       "(41188, 21)"
      ]
     },
     "execution_count": 14,
     "metadata": {},
     "output_type": "execute_result"
    }
   ],
   "source": [
    "df.shape"
   ]
  },
  {
   "cell_type": "code",
   "execution_count": 15,
   "metadata": {},
   "outputs": [],
   "source": [
    "#делаем ohe\n",
    "df_ohe = pd.get_dummies(df)"
   ]
  },
  {
   "cell_type": "code",
   "execution_count": 16,
   "metadata": {},
   "outputs": [],
   "source": [
    "#добавляем столбец '_id'\n",
    "df_ohe.insert(0,'_id',list(df0['_id']))\n",
    "#передаем это df_ohe_id\n",
    "df_ohe_id = df_ohe\n",
    "#возвращаем df_ohe в состояние без '_id'\n",
    "df_ohe=df_ohe.drop(['_id'], axis=1)"
   ]
  },
  {
   "cell_type": "markdown",
   "metadata": {},
   "source": [
    "#### Отделяем train от test"
   ]
  },
  {
   "cell_type": "code",
   "execution_count": 17,
   "metadata": {},
   "outputs": [],
   "source": [
    "df_preproc_id = df_ohe_id.query('target != 2')\n",
    "df_TEST_id = df_ohe_id.query('target == 2')"
   ]
  },
  {
   "cell_type": "markdown",
   "metadata": {},
   "source": [
    "#### Создаем из известной части тренировочные выборки X и Y"
   ]
  },
  {
   "cell_type": "code",
   "execution_count": 45,
   "metadata": {},
   "outputs": [],
   "source": [
    "#Тренировочные выборки\n",
    "Y=df_preproc_id['target']\n",
    "X=df_preproc_id.drop(['target','_id'], axis=1)"
   ]
  },
  {
   "cell_type": "code",
   "execution_count": 46,
   "metadata": {},
   "outputs": [],
   "source": [
    "from sklearn.cross_validation import train_test_split\n",
    "x_train, x_test, y_train, y_test = train_test_split(X, Y, test_size=0.3, random_state=42)"
   ]
  },
  {
   "cell_type": "markdown",
   "metadata": {},
   "source": [
    "#### KNN"
   ]
  },
  {
   "cell_type": "code",
   "execution_count": 47,
   "metadata": {},
   "outputs": [],
   "source": [
    "from sklearn.neighbors import KNeighborsClassifier\n",
    "knn = KNeighborsClassifier(n_neighbors=10)\n",
    "knn.fit(x_train, y_train)\n",
    "predict_knn = knn.predict(x_test)\n",
    "predict_knn_prob = knn.predict_proba(x_test)"
   ]
  },
  {
   "cell_type": "markdown",
   "metadata": {},
   "source": [
    "#### Дерево решений"
   ]
  },
  {
   "cell_type": "code",
   "execution_count": 48,
   "metadata": {},
   "outputs": [],
   "source": [
    "from sklearn.tree import DecisionTreeClassifier\n",
    "dtc = DecisionTreeClassifier()\n",
    "dtc.fit(x_train, y_train)\n",
    "predict_dtc = dtc.predict(x_test)\n",
    "predict_dtc_prob = dtc.predict_proba(x_test)"
   ]
  },
  {
   "cell_type": "markdown",
   "metadata": {},
   "source": [
    "#### Случайный лес"
   ]
  },
  {
   "cell_type": "code",
   "execution_count": 49,
   "metadata": {},
   "outputs": [],
   "source": [
    "from sklearn.ensemble import RandomForestClassifier\n",
    "rfc = RandomForestClassifier()\n",
    "rfc.fit(x_train, y_train)\n",
    "predict_rfc = rfc.predict(x_test)\n",
    "predict_rfc_prob = rfc.predict_proba(x_test)"
   ]
  },
  {
   "cell_type": "markdown",
   "metadata": {},
   "source": [
    "#### Логистическая регрессия"
   ]
  },
  {
   "cell_type": "code",
   "execution_count": 50,
   "metadata": {},
   "outputs": [],
   "source": [
    "from sklearn.linear_model import LogisticRegression\n",
    "lr = LogisticRegression()\n",
    "lr.fit(x_train, y_train)\n",
    "predict_lr = lr.predict(x_test)\n",
    "predict_lr_prob = lr.predict_proba(x_test)"
   ]
  },
  {
   "cell_type": "markdown",
   "metadata": {},
   "source": [
    "#### Построение roc_auc"
   ]
  },
  {
   "cell_type": "code",
   "execution_count": 51,
   "metadata": {},
   "outputs": [
    {
     "data": {
      "text/plain": [
       "(-0.01, 1.01)"
      ]
     },
     "execution_count": 51,
     "metadata": {},
     "output_type": "execute_result"
    },
    {
     "data": {
      "image/png": "[encoded data removed]",
      "text/plain": [
       "<matplotlib.figure.Figure at 0x1083fd68>"
      ]
     },
     "metadata": {},
     "output_type": "display_data"
    },
    {
     "data": {
      "image/png": "[encoded data removed]",
      "text/plain": [
       "<matplotlib.figure.Figure at 0x10873438>"
      ]
     },
     "metadata": {},
     "output_type": "display_data"
    }
   ],
   "source": [
    "from sklearn.metrics import roc_auc_score, roc_curve\n",
    "\n",
    "fpr_dtc, tpr_dtc, thresholds = roc_curve(y_test, predict_knn)\n",
    "fpr_dtc, tpr_dtc, thresholds = roc_curve(y_test, predict_dtc)\n",
    "fpr_rfc, tpr_rfc, thresholds = roc_curve(y_test, predict_rfc)\n",
    "fpr_lr, tpr_lr, thresholds = roc_curve(y_test, predict_lr)\n",
    "\n",
    "fpr_knn_prob, tpr_knn_prob, thresholds = roc_curve(y_test, predict_knn_prob[:,1])\n",
    "fpr_dtc_prob, tpr_dtc_prob, thresholds = roc_curve(y_test, predict_dtc_prob[:,1])\n",
    "fpr_rfc_prob, tpr_rfc_prob, thresholds = roc_curve(y_test, predict_rfc_prob[:,1])\n",
    "fpr_lr_prob, tpr_lr_prob, thresholds = roc_curve(y_test, predict_lr_prob[:,1])\n",
    "\n",
    "#Строим для без proba\n",
    "plt.figure(figsize=(5, 5))\n",
    "plt.plot(fpr_dtc, tpr_dtc)\n",
    "plt.plot(fpr_rfc, tpr_rfc)\n",
    "plt.plot(fpr_lr, tpr_lr)\n",
    "plt.plot([0, 1], [0, 1])\n",
    "plt.ylabel('tpr')\n",
    "plt.xlabel('fpr')\n",
    "plt.grid(True)\n",
    "plt.title('ROC curve')\n",
    "plt.xlim((-0.01, 1.01))\n",
    "plt.ylim((-0.01, 1.01))\n",
    "\n",
    "#Строим для proba\n",
    "plt.figure(figsize=(5, 5))\n",
    "plt.plot(fpr_dtc_prob, tpr_dtc_prob)\n",
    "plt.plot(fpr_rfc_prob, tpr_rfc_prob)\n",
    "plt.plot(fpr_lr_prob, tpr_lr_prob)\n",
    "\n",
    "plt.plot([0, 1], [0, 1])\n",
    "plt.ylabel('tpr')\n",
    "plt.xlabel('fpr')\n",
    "plt.grid(True)\n",
    "plt.title('ROC curve proba')\n",
    "plt.xlim((-0.01, 1.01))\n",
    "plt.ylim((-0.01, 1.01))"
   ]
  },
  {
   "cell_type": "code",
   "execution_count": 52,
   "metadata": {},
   "outputs": [
    {
     "name": "stdout",
     "output_type": "stream",
     "text": [
      "roc_auc_knn 0.6946855526268139\n",
      "roc_auc_dts 0.7124828477260792\n",
      "roc_auc_rfc 0.6974989678397459\n",
      "roc_auc_lr 0.6957664550354528\n",
      "roc_auc_knn_prob 0.8967948061804331\n",
      "roc_auc_dts_prob 0.7124828477260792\n",
      "roc_auc_rfc_prob 0.912030249742163\n",
      "roc_auc_lr_prob 0.9331008513088082\n"
     ]
    }
   ],
   "source": [
    "print('roc_auc_knn',roc_auc_score(y_test, predict_knn))\n",
    "print('roc_auc_dts',roc_auc_score(y_test, predict_dtc))\n",
    "print('roc_auc_rfc',roc_auc_score(y_test, predict_rfc))\n",
    "print('roc_auc_lr',roc_auc_score(y_test, predict_lr))\n",
    "print('roc_auc_knn_prob',roc_auc_score(y_test, predict_knn_prob[:,1]))\n",
    "print('roc_auc_dts_prob',roc_auc_score(y_test, predict_dtc_prob[:,1]))\n",
    "print('roc_auc_rfc_prob',roc_auc_score(y_test, predict_rfc_prob[:,1]))\n",
    "print('roc_auc_lr_prob',roc_auc_score(y_test, predict_lr_prob[:,1]))"
   ]
  },
  {
   "cell_type": "markdown",
   "metadata": {},
   "source": [
    "\n",
    "#### Кросс валидация\n"
   ]
  },
  {
   "cell_type": "code",
   "execution_count": 53,
   "metadata": {},
   "outputs": [
    {
     "data": {
      "text/plain": [
       "[<matplotlib.lines.Line2D at 0xb1074a8>]"
      ]
     },
     "execution_count": 53,
     "metadata": {},
     "output_type": "execute_result"
    },
    {
     "data": {
      "image/png": "[encoded data removed]",
      "text/plain": [
       "<matplotlib.figure.Figure at 0x10873898>"
      ]
     },
     "metadata": {},
     "output_type": "display_data"
    }
   ],
   "source": [
    "from sklearn.cross_validation import cross_val_score\n",
    "from sklearn.model_selection import StratifiedKFold\n",
    "\n",
    "cv = StratifiedKFold(n_splits=10, shuffle=True, random_state=123)\n",
    "\n",
    "knn1 = KNeighborsClassifier(n_neighbors=10)\n",
    "dtc1 = DecisionTreeClassifier(max_depth=10)\n",
    "rfc1 = RandomForestClassifier(max_depth=10)\n",
    "lr1 = LogisticRegression()\n",
    "plt.title('Сравнение ROC AUC на кросс-валидации')\n",
    "\n",
    "plt.plot(cross_val_score(knn1,X,Y,scoring='roc_auc',cv=10))\n",
    "plt.plot(cross_val_score(dtc1,X,Y,scoring='roc_auc',cv=10))\n",
    "plt.plot(cross_val_score(rfc1,X,Y,scoring='roc_auc',cv=10))\n",
    "plt.plot(cross_val_score(lr1,X,Y,scoring='roc_auc',cv=10))"
   ]
  },
  {
   "cell_type": "markdown",
   "metadata": {},
   "source": [
    "Вывод\n",
    "Лучшие результаты дает логистическая регрессия и случайный лес"
   ]
  },
  {
   "cell_type": "markdown",
   "metadata": {},
   "source": [
    "#### Анализ изменения данных"
   ]
  },
  {
   "cell_type": "markdown",
   "metadata": {},
   "source": [
    "Посмотрим, как изменится модель после удаления данных по столбцу 'duration'"
   ]
  },
  {
   "cell_type": "code",
   "execution_count": 54,
   "metadata": {
    "scrolled": true
   },
   "outputs": [
    {
     "data": {
      "text/plain": [
       "[<matplotlib.lines.Line2D at 0xb166a58>]"
      ]
     },
     "execution_count": 54,
     "metadata": {},
     "output_type": "execute_result"
    },
    {
     "data": {
      "image/png": "[encoded data removed]",
      "text/plain": [
       "<matplotlib.figure.Figure at 0x108b5048>"
      ]
     },
     "metadata": {},
     "output_type": "display_data"
    }
   ],
   "source": [
    "df_preproc_id = df_ohe_id.query('target != 2')\n",
    "df_TEST_id = df_ohe_id.query('target == 2')\n",
    "#Тренировочные выборки\n",
    "Y=df_preproc_id['target']\n",
    "X1=df_preproc_id.drop(['target','_id','duration'], axis=1) # удаляем duration\n",
    "\n",
    "cv = StratifiedKFold(n_splits=10, shuffle=True, random_state=123)\n",
    "\n",
    "knn1 = KNeighborsClassifier(n_neighbors=20)\n",
    "dtc1 = DecisionTreeClassifier(max_depth=20)\n",
    "rfc1 = RandomForestClassifier(max_depth=20)\n",
    "lr1 = LogisticRegression()\n",
    "plt.title('Сравнение ROC AUC на кросс-валидации')\n",
    "\n",
    "plt.plot(cross_val_score(knn1,X1,Y,scoring='roc_auc',cv=10))\n",
    "plt.plot(cross_val_score(dtc1,X1,Y,scoring='roc_auc',cv=10))\n",
    "plt.plot(cross_val_score(rfc1,X1,Y,scoring='roc_auc',cv=10))\n",
    "plt.plot(cross_val_score(lr1,X1,Y,scoring='roc_auc',cv=10))"
   ]
  },
  {
   "cell_type": "markdown",
   "metadata": {},
   "source": [
    "Изменилась не на много"
   ]
  },
  {
   "cell_type": "markdown",
   "metadata": {},
   "source": [
    "Делаем предсказание по df_TEST_id по модели lr и rfc"
   ]
  },
  {
   "cell_type": "code",
   "execution_count": 55,
   "metadata": {},
   "outputs": [],
   "source": [
    "from sklearn.cross_validation import train_test_split\n",
    "x_train, x_test, y_train, y_test = train_test_split(X, Y, test_size=0.3, random_state=42)"
   ]
  },
  {
   "cell_type": "code",
   "execution_count": 56,
   "metadata": {},
   "outputs": [
    {
     "data": {
      "text/plain": [
       "RandomForestClassifier(bootstrap=True, class_weight=None, criterion='gini',\n",
       "            max_depth=20, max_features='auto', max_leaf_nodes=None,\n",
       "            min_impurity_decrease=0.0, min_impurity_split=None,\n",
       "            min_samples_leaf=1, min_samples_split=2,\n",
       "            min_weight_fraction_leaf=0.0, n_estimators=10, n_jobs=1,\n",
       "            oob_score=False, random_state=None, verbose=0,\n",
       "            warm_start=False)"
      ]
     },
     "execution_count": 56,
     "metadata": {},
     "output_type": "execute_result"
    }
   ],
   "source": [
    "from sklearn.linear_model import LogisticRegression\n",
    "lr = LogisticRegression()\n",
    "lr.fit(x_train, y_train)\n",
    "\n",
    "from sklearn.ensemble import RandomForestClassifier\n",
    "rfc = RandomForestClassifier(max_depth=20)\n",
    "rfc.fit(x_train, y_train)\n",
    "\n"
   ]
  },
  {
   "cell_type": "code",
   "execution_count": null,
   "metadata": {},
   "outputs": [],
   "source": []
  },
  {
   "cell_type": "code",
   "execution_count": 63,
   "metadata": {},
   "outputs": [],
   "source": [
    "df_TEST = df_TEST_id.drop(['_id','target'], axis=1)"
   ]
  },
  {
   "cell_type": "code",
   "execution_count": 69,
   "metadata": {},
   "outputs": [],
   "source": [
    "predict_rfc = rfc.predict(df_TEST)\n",
    "predict_rfc_prob = rfc.predict_proba(df_TEST)\n",
    "\n",
    "predict_lr = lr.predict(df_TEST)\n",
    "predict_lr_prob = lr.predict_proba(df_TEST)"
   ]
  },
  {
   "cell_type": "markdown",
   "metadata": {},
   "source": [
    "#### Создаем ответы для залива на Kaggle"
   ]
  },
  {
   "cell_type": "code",
   "execution_count": 96,
   "metadata": {},
   "outputs": [],
   "source": [
    "predict_rfc_Test = pd.DataFrame({'target':predict_rfc,'_id':list(df_TEST_id['_id'])})\n",
    "predict_lr_Test = pd.DataFrame({'target':predict_lr,'_id':list(df_TEST_id['_id'])})\n",
    "predict_rfc_prob_Test = pd.DataFrame({'target':predict_rfc_prob[:,1],'_id':list(df_TEST_id['_id'])})"
   ]
  },
  {
   "cell_type": "code",
   "execution_count": 100,
   "metadata": {},
   "outputs": [],
   "source": [
    "predict_rfc_Test.to_csv('hw_data/predict_rfc_Test.csv', sep=',', index=False)\n",
    "predict_lr_Test.to_csv('hw_data/predict_lr_Test.csv', sep=',', index=False)\n",
    "predict_rfc_prob_Test.to_csv('hw_data/predict_rfc_prob_Test.csv', sep=',', index=False)"
   ]
  },
  {
   "cell_type": "code",
   "execution_count": null,
   "metadata": {},
   "outputs": [],
   "source": []
  },
  {
   "cell_type": "code",
   "execution_count": null,
   "metadata": {},
   "outputs": [],
   "source": []
  }
 ],
 "metadata": {
  "anaconda-cloud": {},
  "kernelspec": {
   "display_name": "Python 3",
   "language": "python",
   "name": "python3"
  },
  "language_info": {
   "codemirror_mode": {
    "name": "ipython",
    "version": 3
   },
   "file_extension": ".py",
   "mimetype": "text/x-python",
   "name": "python",
   "nbconvert_exporter": "python",
   "pygments_lexer": "ipython3",
   "version": "3.6.4"
  },
  "toc": {
   "colors": {
    "hover_highlight": "#DAA520",
    "navigate_num": "#000000",
    "navigate_text": "#333333",
    "running_highlight": "#FF0000",
    "selected_highlight": "#FFD700",
    "sidebar_border": "#EEEEEE",
    "wrapper_background": "#FFFFFF"
   },
   "moveMenuLeft": true,
   "nav_menu": {
    "height": "31px",
    "width": "253px"
   },
   "navigate_menu": true,
   "number_sections": false,
   "sideBar": true,
   "threshold": 4,
   "toc_cell": false,
   "toc_section_display": "block",
   "toc_window_display": false,
   "widenNotebook": false
  }
 },
 "nbformat": 4,
 "nbformat_minor": 2
}
